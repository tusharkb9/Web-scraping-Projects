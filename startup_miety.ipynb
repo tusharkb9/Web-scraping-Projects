{
 "cells": [
  {
   "cell_type": "code",
   "execution_count": 1,
   "id": "4ccbd26e",
   "metadata": {},
   "outputs": [],
   "source": [
    "# import modules\n",
    "from bs4 import BeautifulSoup\n",
    "import requests, csv\n",
    "import pandas as pd"
   ]
  },
  {
   "cell_type": "code",
   "execution_count": 2,
   "id": "779ea12b",
   "metadata": {},
   "outputs": [],
   "source": [
    "url = 'https://meitystartuphub.in/startups/startup-wall'"
   ]
  },
  {
   "cell_type": "code",
   "execution_count": 3,
   "id": "483060ba",
   "metadata": {},
   "outputs": [],
   "source": [
    "data = []\n",
    "\n",
    "for i in range(1, 147): #loop through all pages\n",
    "    \n",
    "    link = url + '?search=&page=' + str(i)\n",
    "    response = requests.get(link)\n",
    "\n",
    "    soup = BeautifulSoup(response.content, 'html.parser')\n",
    "\n",
    "    body = soup.find('div', class_ = 'list-body').find_all('div', class_ = 'body-row')\n",
    "\n",
    "    for i in body: #loop through different tags in body\n",
    "        \n",
    "        name = i.find('div', class_ = 'pl-0').get_text(strip = True)\n",
    "        \n",
    "        strength = i.find('div', class_ = 'col-2').get_text(strip = True)\n",
    "        \n",
    "        try: #used to extract text from span in 2nd div\n",
    "            a = i.find('div', class_ = 'sectors').find('div', attrs={'style': 'display: none'})\n",
    "            sector = a.span.get_text(strip = True)\n",
    "        except AttributeError: #otherwise nonetype error\n",
    "            sector = i.find('div', class_ = 'sectors').get_text(strip = True)\n",
    "            \n",
    "        location = i.find('div', class_ = 'col-3').get_text(strip = True)\n",
    "        \n",
    "        try:\n",
    "            website = i.find('a', class_ = 'text-center').get('title').replace('/', '')\n",
    "        except AttributeError: #otherwise nonetype error\n",
    "            website = 'NA'\n",
    "            \n",
    "        data.append([name, strength, sector, location, website])\n",
    "\n",
    "        with open('startup.csv', 'w', encoding='utf-8') as file:\n",
    "            writer = csv.writer(file)\n",
    "            headers = ['Company','Team Strength','Sector', 'Location','Website']\n",
    "            writer.writerow(headers)\n",
    "            for i in data:\n",
    "                writer.writerow(i)"
   ]
  },
  {
   "cell_type": "code",
   "execution_count": 4,
   "id": "6fb7e973",
   "metadata": {},
   "outputs": [
    {
     "data": {
      "text/plain": [
       "2907"
      ]
     },
     "execution_count": 4,
     "metadata": {},
     "output_type": "execute_result"
    }
   ],
   "source": [
    "len(data)"
   ]
  },
  {
   "cell_type": "code",
   "execution_count": null,
   "id": "58934cd6",
   "metadata": {},
   "outputs": [],
   "source": []
  }
 ],
 "metadata": {
  "kernelspec": {
   "display_name": "Python 3 (ipykernel)",
   "language": "python",
   "name": "python3"
  },
  "language_info": {
   "codemirror_mode": {
    "name": "ipython",
    "version": 3
   },
   "file_extension": ".py",
   "mimetype": "text/x-python",
   "name": "python",
   "nbconvert_exporter": "python",
   "pygments_lexer": "ipython3",
   "version": "3.8.5"
  }
 },
 "nbformat": 4,
 "nbformat_minor": 5
}
